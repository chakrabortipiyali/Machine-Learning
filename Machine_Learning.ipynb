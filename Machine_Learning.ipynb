{
  "nbformat": 4,
  "nbformat_minor": 0,
  "metadata": {
    "colab": {
      "provenance": []
    },
    "kernelspec": {
      "name": "python3",
      "display_name": "Python 3"
    },
    "language_info": {
      "name": "python"
    }
  },
  "cells": [
    {
      "cell_type": "code",
      "execution_count": null,
      "metadata": {
        "id": "xwYrdl7rZGpa"
      },
      "outputs": [],
      "source": []
    },
    {
      "cell_type": "markdown",
      "source": [
        "#1. What is a parameter?\n",
        "- A parameter is a variable within a function definition that represents a value that will be passed to it when the function is called. Parameters can be of any type, including integers, floats, strings, lists, dictionaries, and even functions."
      ],
      "metadata": {
        "id": "2d6uqQjmZN-n"
      }
    },
    {
      "cell_type": "markdown",
      "source": [
        "#2. What is correlation? What does negative correlation mean?\n",
        "- Correlation refers to a process for establishing the relationships between two variables.\n",
        "- A negative correlation means that as one variable increases, the other variable tends to decrease, and vice versa.Negative correlation describes a relationship between two variables where they move in opposite directions."
      ],
      "metadata": {
        "id": "1NAaRdYMbCr1"
      }
    },
    {
      "cell_type": "markdown",
      "source": [
        "#3. Define Machine Learning. What are the main components in Machine Learning?\n",
        "- The subfield of computer science that gives computers the ability to learn the pattern in the data without being explicitly programmed.Machines learn the patter from the data and replicate the same in future.\n",
        "- The main components of machine learning include data, algorithms, models, and predictions."
      ],
      "metadata": {
        "id": "faPT8SKftDbG"
      }
    },
    {
      "cell_type": "markdown",
      "source": [
        "#4. How does loss value help in determining whether the model is good or not?\n",
        "- The loss value is a key indicator of a model's performance because it measures how far the model's predictions are from the actual values. Here's how it helps determine whether the model is good:\n",
        "\n",
        "- 1. **Indicates Prediction Accuracy**  \n",
        "   - A lower loss value means the model's predictions are closer to the actual values, indicating better accuracy.\n",
        "   - A high loss value suggests that the model is making large errors in its predictions.\n",
        "\n",
        "- 2. **Helps Track Training Progress**  \n",
        "   - During training, a decreasing loss value shows that the model is learning and improving.\n",
        "   - If the loss remains high or fluctuates significantly, it may indicate issues like poor learning or inappropriate hyperparameters.\n",
        "\n",
        "- 3. **Prevents Overfitting or Underfitting**  \n",
        "   - If the training loss is very low but the validation/test loss is high, the model might be **overfitting** (memorizing training data rather than generalizing well).\n",
        "   - If both training and validation loss are high, the model might be **underfitting** (too simple to capture patterns in the data).\n",
        "\n",
        "-  4. **Model Selection & Hyperparameter Tuning**  \n",
        "   - Loss values help compare different models or configurations.\n",
        "   - A model with a lower loss on unseen data (test set) is generally better than one with a lower loss only on training data.\n",
        "\n",
        "-  5. **Guides Optimization Process**  \n",
        "   - Loss functions guide gradient-based optimization (e.g., via gradient descent).\n",
        "   - The loss landscape helps determine how quickly and effectively the model converges to an optimal solution.\n",
        "\n",
        "\n"
      ],
      "metadata": {
        "id": "o9Kl8bmMQN6c"
      }
    },
    {
      "cell_type": "markdown",
      "source": [
        "#5. What are continuous and categorical variables?\n",
        "- A continuous variable can take any value within a given range, while a categorical variable represents distinct, named categories or groups."
      ],
      "metadata": {
        "id": "kJcvu2ChSGW4"
      }
    },
    {
      "cell_type": "markdown",
      "source": [
        "#6. How do we handle categorical variables in Machine Learning? What are the common techniques?\n",
        "- To handle categorical variables in machine learning, common techniques include one-hot encoding, label encoding, ordinal encoding, and target/mean encoding, each suited for different scenarios and data characteristics."
      ],
      "metadata": {
        "id": "46DX6wXYSSnU"
      }
    },
    {
      "cell_type": "markdown",
      "source": [
        "#7. What do you mean by training and testing a dataset?\n",
        "- In machine learning, \"training a dataset\" means using a portion of your data to teach a model to recognize patterns and make predictions, while \"testing a dataset\" means using a separate portion of data to evaluate how well the trained model generalizes to unseen data."
      ],
      "metadata": {
        "id": "qDJoAfOoSoMF"
      }
    },
    {
      "cell_type": "markdown",
      "source": [],
      "metadata": {
        "id": "GpuSmK4DS3Yh"
      }
    },
    {
      "cell_type": "markdown",
      "source": [
        "#8. What is sklearn.preprocessing?\n",
        "- n the context of scikit-learn (sklearn), \"preprocessing\" refers to the process of transforming raw data into a format that is more suitable for machine learning algorithms, using utility functions and transformer classes within the sklearn.preprocessing module."
      ],
      "metadata": {
        "id": "aC8_KC6yS3oP"
      }
    },
    {
      "cell_type": "markdown",
      "source": [
        "#9. What is a Test set?\n",
        "- In machine learning, a test set is a portion of the data that is withheld during model training and used solely to evaluate the model's performance on unseen data after it has been trained."
      ],
      "metadata": {
        "id": "aOxm5AgUTB_9"
      }
    },
    {
      "cell_type": "markdown",
      "source": [
        "#10. How do we split data for model fitting (training and testing) in Python? How do you approach a Machine Learning problem?\n",
        "- To split data for model fitting in Python, use scikit-learn's train_test_split function, which randomly divides the data into training and testing sets. A typical approach to a machine learning problem involves data collection, preparation, model selection, training, evaluation, and potentially hyperparameter tuning and prediction."
      ],
      "metadata": {
        "id": "gJ_dYICqTLPH"
      }
    },
    {
      "cell_type": "markdown",
      "source": [
        "#11. Why do we have to perform EDA before fitting a model to the data?\n",
        "- Exploratory Data Analysis (EDA) before model fitting is crucial because it helps identify data quality issues (missing values, outliers), understand data structure and relationships, and informs data cleaning and feature selection, ultimately leading to more accurate and reliable models."
      ],
      "metadata": {
        "id": "6qx5PxaWTZO2"
      }
    },
    {
      "cell_type": "markdown",
      "source": [
        "#12. What is correlation?\n",
        "- Correlation refers to a process for establishing the relationships between two variables."
      ],
      "metadata": {
        "id": "1ZeKWSKXTp8s"
      }
    },
    {
      "cell_type": "markdown",
      "source": [
        "#13. What does negative correlation mean?\n",
        "- A negative correlation means that as one variable increases, the other variable tends to decrease, and vice versa.Negative correlation describes a relationship between two variables where they move in opposite directions."
      ],
      "metadata": {
        "id": "sjA7AJWnT06U"
      }
    },
    {
      "cell_type": "markdown",
      "source": [
        "#14. How can you find corelation between variables in Python?\n",
        "- In Python, you can find the correlation between variables using Pandas or NumPy ."
      ],
      "metadata": {
        "id": "jESbi5CET9qc"
      }
    },
    {
      "cell_type": "markdown",
      "source": [
        "#15. What is causation? Explain difference between correlation and causation with an example.\n",
        "- Causation means one event directly leads to another, while correlation simply indicates a relationship between two events, where one doesn't necessarily cause the other."
      ],
      "metadata": {
        "id": "K3fEzeL3UrpZ"
      }
    },
    {
      "cell_type": "markdown",
      "source": [
        "#16. What is an Optimizer? What are different types of optimizers? Explain each with an example.\n",
        "- In the context of machine learning , an optimizer is an algorithm that adjusts model parameters to minimize the loss function during training, aiming for optimal performance."
      ],
      "metadata": {
        "id": "mgQ8NPdPU2bR"
      }
    },
    {
      "cell_type": "markdown",
      "source": [
        "#17. What is sklearn.linear_model ?\n",
        "- Linear_model is a class of the sklearn module if contain different functions for performing machine learning with linear models. The term linear model implies that the model is specified as a linear combination of features."
      ],
      "metadata": {
        "id": "mKGcMAfpVF_X"
      }
    },
    {
      "cell_type": "markdown",
      "source": [
        "#18. What does model.fit() do? What arguments must be given?\n",
        "- Feeds the training data into the model.\n",
        "- It takes the input features (X_train) and corresponding target values (y_train).\n",
        "- Performs forward and backward propagation\n",
        "- Computes predictions and calculates the loss.\n",
        "- Adjusts weights using backpropagation and optimization algorithms (e.g., Gradient Descent).\n",
        "-Updates model parameters\n",
        "- Repeats the process for multiple epochs to optimize performance."
      ],
      "metadata": {
        "id": "Pc9oPchOVSEm"
      }
    },
    {
      "cell_type": "markdown",
      "source": [
        "#19. What does model.predict() do? What arguments must be given?\n",
        "- model.predict() is a method used in machine learning model to generate predictions based on input data.\n",
        "Argument used is model.predit()"
      ],
      "metadata": {
        "id": "o-jOQM-NWDXT"
      }
    },
    {
      "cell_type": "markdown",
      "source": [
        "#20. What are continuous and categorical variables?\n",
        "- A continuous variable can take any value within a given range, while a categorical variable represents distinct, named categories or groups."
      ],
      "metadata": {
        "id": "dveCem9dWcqW"
      }
    },
    {
      "cell_type": "markdown",
      "source": [
        "#21. What is feature scaling? How does it help in Machine Learning?\n",
        "- Feature scaling is a data preprocessing technique that transforms the values of numerical features to a common scale, ensuring all features contribute equally to machine learning model training and improving model performance, especially for algorithms sensitive to feature ranges."
      ],
      "metadata": {
        "id": "wV8U6wZ6WpDI"
      }
    },
    {
      "cell_type": "markdown",
      "source": [
        "#22. How do we perform scaling in Python?\n",
        "- In Python, scaling is commonly performed using\n",
        "\n",
        "-  1. Min-Max Scaling (Normalization)\n",
        "Scales the data to a fixed range, typically [0,1]\n",
        "\n",
        "- 2. Standardization (Z-Score Normalization)\n",
        "\n",
        "\n"
      ],
      "metadata": {
        "id": "4E7b6IdQW2sm"
      }
    },
    {
      "cell_type": "markdown",
      "source": [
        "#23. What is sklearn.preprocessing?\n",
        "- In the context of scikit-learn (sklearn), \"preprocessing\" refers to the process of transforming raw data into a format that is more suitable for machine learning algorithms, using utility functions and transformer classes within the sklearn.preprocessing module."
      ],
      "metadata": {
        "id": "H9KSGF1VXf_t"
      }
    },
    {
      "cell_type": "markdown",
      "source": [
        "#24. How do we split data for model fitting (training and testing) in Python?\n",
        "- To split data for model fitting in Python, use train_test_split from sklearn.model_selection to create training and testing sets, often in an 80/20 or 70/30 split."
      ],
      "metadata": {
        "id": "RFAwUZATXrlR"
      }
    },
    {
      "cell_type": "markdown",
      "source": [
        "#25. Explain data encoding?\n",
        "- Data encoding is the process of converting information or data into a specific format for efficient storage, transmission, or processing, often for use in machine learning or digital communication."
      ],
      "metadata": {
        "id": "aS2--KafX76Q"
      }
    }
  ]
}